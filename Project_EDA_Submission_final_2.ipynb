{
  "nbformat": 4,
  "nbformat_minor": 0,
  "metadata": {
    "colab": {
      "private_outputs": true,
      "provenance": [],
      "collapsed_sections": [
        "FJNUwmbgGyua",
        "w6K7xa23Elo4",
        "UV0SzAkaZNRQ",
        "YPEH6qLeZNRQ",
        "gIfDvo9L0UH2"
      ]
    },
    "kernelspec": {
      "name": "python3",
      "display_name": "Python 3"
    },
    "language_info": {
      "name": "python"
    }
  },
  "cells": [
    {
      "cell_type": "markdown",
      "source": [
        "# **Project Name**  - EDA on AirBnb_2019\n",
        "\n"
      ],
      "metadata": {
        "id": "vncDsAP0Gaoa"
      }
    },
    {
      "cell_type": "markdown",
      "source": [
        "##### **Project Type**    - EDA\n",
        "##### **Contribution**    - Individual\n",
        "##### **Team Member 1 -Akhilesh kumar**\n",
        "##### **Team Member 2 -**\n",
        "##### **Team Member 3 -**\n",
        "##### **Team Member 4 -**"
      ],
      "metadata": {
        "id": "beRrZCGUAJYm"
      }
    },
    {
      "cell_type": "markdown",
      "source": [
        "# **Project Summary -**"
      ],
      "metadata": {
        "id": "FJNUwmbgGyua"
      }
    },
    {
      "cell_type": "markdown",
      "source": [
        "\n",
        "In the project od EDA on AirBnb_2019, we study,clean and draw different graph to find actual pattern of customers,customer interest and their needs.\n",
        "\n",
        "The dataset  provided appears to contain information about Airbnb listings, including various attributes such as host details, location coordinates, pricing, availability, and reviews. Here's a general summary and potential insights that could be derived from this dataset for a project or analysis:\n",
        "\n",
        "**Listing Characteristics:**\n",
        "\n",
        "The dataset includes information about the location (latitude and longitude) of Airbnb listings, which can be used for spatial analysis, mapping, and clustering based on geographical proximity.\n",
        "Details such as price per night, minimum nights required for booking, and availability throughout the year provide insights into the rental market and booking patterns.\n",
        "\n",
        "**Host and Review Data:**\n",
        "\n",
        "Host-related information such as host IDs and the number of listings managed by each host can be analyzed to understand the distribution and behavior of hosts on the platform.\n",
        "Review-related metrics, such as the total number of reviews and reviews per month, can indicate the popularity and engagement level of listings.\n",
        "\n",
        "**Correlation Analysis:**\n",
        "\n",
        "By calculating correlations between different variables (e.g., price, minimum nights, number of reviews), you can identify relationships and dependencies within the dataset.\n",
        "For example, correlations between price and location, availability and minimum nights, or host-related metrics can provide valuable insights into pricing strategies, booking trends, and host performance.\n",
        "\n",
        "**Outlier Detection:**\n",
        "\n",
        "Utilizing techniques like Isolation Forest or other anomaly detection methods can help identify outliers in the dataset, such as unusually high-priced listings, hosts with an abnormally large number of listings, or extreme values in review-related metrics.\n",
        "\n",
        "**Visualization and Interpretation:**\n",
        "\n",
        "Creating visualizations such as heatmaps for correlation analysis, scatter plots for price vs. location, bar charts for host distribution, and time series plots for booking trends can enhance data exploration and storytelling.\n",
        "Interpretation of these visualizations can lead to actionable insights for stakeholders, such as identifying profitable locations, optimizing pricing strategies, or addressing issues related to availability or host performance.."
      ],
      "metadata": {
        "id": "epUzj0Dz43Ql"
      }
    },
    {
      "cell_type": "markdown",
      "source": [
        "# **GitHub Link -**"
      ],
      "metadata": {
        "id": "w6K7xa23Elo4"
      }
    },
    {
      "cell_type": "markdown",
      "source": [
        "# **Problem Statement**\n"
      ],
      "metadata": {
        "id": "yQaldy8SH6Dl"
      }
    },
    {
      "cell_type": "markdown",
      "source": [
        "**Write Problem Statement Here.**"
      ],
      "metadata": {
        "id": "DpeJGUA3kjGy"
      }
    },
    {
      "cell_type": "markdown",
      "source": [
        "#### **Define Your Business Objective?**"
      ],
      "metadata": {
        "id": "PH-0ReGfmX4f"
      }
    },
    {
      "cell_type": "markdown",
      "source": [
        "Answer Here."
      ],
      "metadata": {
        "id": "PhDvGCAqmjP1"
      }
    },
    {
      "cell_type": "markdown",
      "source": [
        "Identify the pattern and needs of customers to imorove service label and profit."
      ],
      "metadata": {
        "id": "RxjoED2kxeGT"
      }
    },
    {
      "cell_type": "markdown",
      "source": [
        "# **General Guidelines** : -  "
      ],
      "metadata": {
        "id": "mDgbUHAGgjLW"
      }
    },
    {
      "cell_type": "markdown",
      "source": [
        "1.   Well-structured, formatted, and commented code is required.\n",
        "2.   Exception Handling, Production Grade Code & Deployment Ready Code will be a plus. Those students will be awarded some additional credits.\n",
        "     \n",
        "     The additional credits will have advantages over other students during Star Student selection.\n",
        "       \n",
        "             [ Note: - Deployment Ready Code is defined as, the whole .ipynb notebook should be executable in one go\n",
        "                       without a single error logged. ]\n",
        "\n",
        "3.   Each and every logic should have proper comments.\n",
        "4. You may add as many number of charts you want. Make Sure for each and every chart the following format should be answered.\n",
        "        \n",
        "\n",
        "```\n",
        "# Chart visualization code\n",
        "```\n",
        "            \n",
        "\n",
        "*   Why did you pick the specific chart?\n",
        "*   What is/are the insight(s) found from the chart?\n",
        "* Will the gained insights help creating a positive business impact?\n",
        "Are there any insights that lead to negative growth? Justify with specific reason.\n",
        "\n",
        "5. You have to create at least 20 logical & meaningful charts having important insights.\n",
        "\n",
        "\n",
        "[ Hints : - Do the Vizualization in  a structured way while following \"UBM\" Rule.\n",
        "\n",
        "U - Univariate Analysis,\n",
        "\n",
        "B - Bivariate Analysis (Numerical - Categorical, Numerical - Numerical, Categorical - Categorical)\n",
        "\n",
        "M - Multivariate Analysis\n",
        " ]\n",
        "\n",
        "\n",
        "\n"
      ],
      "metadata": {
        "id": "ZrxVaUj-hHfC"
      }
    },
    {
      "cell_type": "markdown",
      "source": [
        "# ***Let's Begin !***"
      ],
      "metadata": {
        "id": "O_i_v8NEhb9l"
      }
    },
    {
      "cell_type": "markdown",
      "source": [
        "## ***1. Know Your Data***"
      ],
      "metadata": {
        "id": "HhfV-JJviCcP"
      }
    },
    {
      "cell_type": "markdown",
      "source": [
        "### Import Libraries"
      ],
      "metadata": {
        "id": "Y3lxredqlCYt"
      }
    },
    {
      "cell_type": "code",
      "source": [
        "# Import Libraries\n",
        "import numpy as np\n",
        "import pandas as pd\n",
        "import matplotlib.pyplot as plt\n",
        "import seaborn as sns"
      ],
      "metadata": {
        "id": "M8Vqi-pPk-HR"
      },
      "execution_count": null,
      "outputs": []
    },
    {
      "cell_type": "markdown",
      "source": [
        "### Dataset Loading"
      ],
      "metadata": {
        "id": "3RnN4peoiCZX"
      }
    },
    {
      "cell_type": "code",
      "source": [
        "# Load Dataset\n",
        "data=pd.read_csv(\"/content/sample_data/Airbnb NYC 2019 (1).csv\")"
      ],
      "metadata": {
        "id": "4CkvbW_SlZ_R"
      },
      "execution_count": null,
      "outputs": []
    },
    {
      "cell_type": "markdown",
      "source": [
        "### Dataset First View"
      ],
      "metadata": {
        "id": "x71ZqKXriCWQ"
      }
    },
    {
      "cell_type": "code",
      "source": [
        "# Dataset First Look\n",
        "data.head()"
      ],
      "metadata": {
        "id": "LWNFOSvLl09H"
      },
      "execution_count": null,
      "outputs": []
    },
    {
      "cell_type": "markdown",
      "source": [
        "### Dataset Rows & Columns count"
      ],
      "metadata": {
        "id": "7hBIi_osiCS2"
      }
    },
    {
      "cell_type": "code",
      "source": [
        "# Dataset Rows & Columns count\n",
        "data.shape"
      ],
      "metadata": {
        "id": "Kllu7SJgmLij"
      },
      "execution_count": null,
      "outputs": []
    },
    {
      "cell_type": "markdown",
      "source": [
        "### Dataset Information"
      ],
      "metadata": {
        "id": "JlHwYmJAmNHm"
      }
    },
    {
      "cell_type": "code",
      "source": [
        "# Dataset Info\n",
        "data.info()"
      ],
      "metadata": {
        "id": "e9hRXRi6meOf"
      },
      "execution_count": null,
      "outputs": []
    },
    {
      "cell_type": "markdown",
      "source": [
        "#### Duplicate Values"
      ],
      "metadata": {
        "id": "35m5QtbWiB9F"
      }
    },
    {
      "cell_type": "code",
      "source": [
        "# Dataset Duplicate Value Counts\n",
        "data.duplicated().sum()"
      ],
      "metadata": {
        "id": "1sLdpKYkmox0"
      },
      "execution_count": null,
      "outputs": []
    },
    {
      "cell_type": "markdown",
      "source": [
        "#### Missing Values/Null Values"
      ],
      "metadata": {
        "id": "PoPl-ycgm1ru"
      }
    },
    {
      "cell_type": "code",
      "source": [
        "# Missing Values/Null Values Count\n",
        "data.isnull().sum()\n"
      ],
      "metadata": {
        "id": "GgHWkxvamxVg"
      },
      "execution_count": null,
      "outputs": []
    },
    {
      "cell_type": "code",
      "source": [
        "# Visualizing the missing values\n",
        "missing_value=data.isnull().sum()\n",
        "print(missing_value)"
      ],
      "metadata": {
        "id": "3q5wnI3om9sJ"
      },
      "execution_count": null,
      "outputs": []
    },
    {
      "cell_type": "markdown",
      "source": [
        "### What did you know about your dataset?"
      ],
      "metadata": {
        "id": "H0kj-8xxnORC"
      }
    },
    {
      "cell_type": "markdown",
      "source": [
        "Answer Here"
      ],
      "metadata": {
        "id": "gfoNAAC-nUe_"
      }
    },
    {
      "cell_type": "markdown",
      "source": [
        "reviews_per_month and last_review has higest missing values."
      ],
      "metadata": {
        "id": "2A6AEiVH3RUf"
      }
    },
    {
      "cell_type": "markdown",
      "source": [
        "## ***2. Understanding Your Variables***"
      ],
      "metadata": {
        "id": "nA9Y7ga8ng1Z"
      }
    },
    {
      "cell_type": "code",
      "source": [
        "# Dataset Describe\n",
        "data.describe()"
      ],
      "metadata": {
        "id": "DnOaZdaE5Q5t"
      },
      "execution_count": null,
      "outputs": []
    },
    {
      "cell_type": "markdown",
      "source": [
        "### Variables Description"
      ],
      "metadata": {
        "id": "PBTbrJXOngz2"
      }
    },
    {
      "cell_type": "markdown",
      "source": [
        "Answer Here"
      ],
      "metadata": {
        "id": "aJV4KIxSnxay"
      }
    },
    {
      "cell_type": "markdown",
      "source": [
        "The price variable has a mean of 152.72 with a standard deviation of 240.15, indicating a relatively high variability in listing prices.\n",
        "\n",
        "\n",
        "The minimum_nights variable has a minimum of 1 night and a maximum of 1250 nights, with a median (50th percentile) of 3 nights, suggesting a wide range of minimum stay requirements among listings.\n",
        "\n",
        "\n",
        "The availability_365 variable shows that listings are available for booking anywhere from 0 to 365 days in a year, with a median availability of 45 days."
      ],
      "metadata": {
        "id": "fXzYoF6D75pn"
      }
    },
    {
      "cell_type": "markdown",
      "source": [
        "Price is dependend variable where as number of nitght is independent variable."
      ],
      "metadata": {
        "id": "Pbts1lZ4Dwk8"
      }
    },
    {
      "cell_type": "code",
      "source": [
        "# Check Unique Values for each variable.\n",
        "unique_value = data.values.flatten()\n",
        "unique_values = pd.unique(unique_value)\n",
        "print(unique_values)"
      ],
      "metadata": {
        "id": "zms12Yq5n-jE"
      },
      "execution_count": null,
      "outputs": []
    },
    {
      "cell_type": "markdown",
      "source": [
        "## 3. ***Data Wrangling***"
      ],
      "metadata": {
        "id": "dauF4eBmngu3"
      }
    },
    {
      "cell_type": "markdown",
      "source": [
        "### Data Wrangling Code"
      ],
      "metadata": {
        "id": "bKJF3rekwFvQ"
      }
    },
    {
      "cell_type": "code",
      "source": [
        "# Write your code to make your dataset analysis ready.\n",
        "data.drop(columns='host_id')"
      ],
      "metadata": {
        "id": "wk-9a2fpoLcV"
      },
      "execution_count": null,
      "outputs": []
    },
    {
      "cell_type": "code",
      "source": [
        "data[\"reviews_per_month\"].replace('NaN','data[reviews_per_month].mean')"
      ],
      "metadata": {
        "id": "A0R3L-1vHXaM"
      },
      "execution_count": null,
      "outputs": []
    },
    {
      "cell_type": "code",
      "source": [
        "data.head()"
      ],
      "metadata": {
        "id": "iQyGVmT0KKVD"
      },
      "execution_count": null,
      "outputs": []
    },
    {
      "cell_type": "markdown",
      "source": [
        "### What all manipulations have you done and insights you found?"
      ],
      "metadata": {
        "id": "MSa1f5Uengrz"
      }
    },
    {
      "cell_type": "markdown",
      "source": [
        "Answer Here."
      ],
      "metadata": {
        "id": "LbyXE7I1olp8"
      }
    },
    {
      "cell_type": "markdown",
      "source": [
        "Now my data is ready to"
      ],
      "metadata": {
        "id": "o5BOT1TBHAK4"
      }
    },
    {
      "cell_type": "markdown",
      "source": [
        "## ***4. Data Vizualization, Storytelling & Experimenting with charts : Understand the relationships between variables***"
      ],
      "metadata": {
        "id": "GF8Ens_Soomf"
      }
    },
    {
      "cell_type": "markdown",
      "source": [
        "#### Chart - 1"
      ],
      "metadata": {
        "id": "0wOQAZs5pc--"
      }
    },
    {
      "cell_type": "code",
      "source": [
        "# Chart - 1 visualization code\n",
        "sns.barplot(data=data,x='room_type',y='price')\n",
        "plt.xlabel(\" Room Type\")\n",
        "plt.ylabel(\"Price\")\n",
        "plt.title(\" Price Vs Room Type\")\n",
        "plt.show()"
      ],
      "metadata": {
        "id": "7v_ESjsspbW7"
      },
      "execution_count": null,
      "outputs": []
    },
    {
      "cell_type": "markdown",
      "source": [
        "##### 1. Why did you pick the specific chart?"
      ],
      "metadata": {
        "id": "K5QZ13OEpz2H"
      }
    },
    {
      "cell_type": "markdown",
      "source": [
        "Answer Here."
      ],
      "metadata": {
        "id": "XESiWehPqBRc"
      }
    },
    {
      "cell_type": "markdown",
      "source": [
        "We take the bar graph for comarison fo room types and their price."
      ],
      "metadata": {
        "id": "g4teXNFhPAZp"
      }
    },
    {
      "cell_type": "markdown",
      "source": [
        "##### 2. What is/are the insight(s) found from the chart?"
      ],
      "metadata": {
        "id": "lQ7QKXXCp7Bj"
      }
    },
    {
      "cell_type": "markdown",
      "source": [
        "Answer Here"
      ],
      "metadata": {
        "id": "C_j1G7yiqdRP"
      }
    },
    {
      "cell_type": "markdown",
      "source": [
        "Shared room has least price and entire home is max price.\n",
        "\n"
      ],
      "metadata": {
        "id": "rpplzEW5Sdx-"
      }
    },
    {
      "cell_type": "markdown",
      "source": [
        "##### 3. Will the gained insights help creating a positive business impact?\n",
        "Are there any insights that lead to negative growth? Justify with specific reason."
      ],
      "metadata": {
        "id": "448CDAPjqfQr"
      }
    },
    {
      "cell_type": "markdown",
      "source": [
        "Answer Here"
      ],
      "metadata": {
        "id": "3cspy4FjqxJW"
      }
    },
    {
      "cell_type": "markdown",
      "source": [
        "Shared room has least price and entire home is max price.\n",
        "\n"
      ],
      "metadata": {
        "id": "2pkIe1o8SX0Y"
      }
    },
    {
      "cell_type": "markdown",
      "source": [
        "#### Chart - 2"
      ],
      "metadata": {
        "id": "KSlN3yHqYklG"
      }
    },
    {
      "cell_type": "code",
      "source": [
        "# Chart - 2 visualization code\n",
        "sns.scatterplot(data=data, x='minimum_nights',y='price')\n",
        "plt.title('Relation among price and minimum_nights')\n",
        "plt.show()"
      ],
      "metadata": {
        "id": "R4YgtaqtYklH"
      },
      "execution_count": null,
      "outputs": []
    },
    {
      "cell_type": "markdown",
      "source": [
        "##### 1. Why did you pick the specific chart?"
      ],
      "metadata": {
        "id": "t6dVpIINYklI"
      }
    },
    {
      "cell_type": "markdown",
      "source": [
        "Answer Here."
      ],
      "metadata": {
        "id": "5aaW0BYyYklI"
      }
    },
    {
      "cell_type": "markdown",
      "source": [
        "To find the variation in price inrespect to number of night stay."
      ],
      "metadata": {
        "id": "dMWtQXeGlwQh"
      }
    },
    {
      "cell_type": "markdown",
      "source": [
        "##### 2. What is/are the insight(s) found from the chart?"
      ],
      "metadata": {
        "id": "ijmpgYnKYklI"
      }
    },
    {
      "cell_type": "markdown",
      "source": [
        "Answer Here"
      ],
      "metadata": {
        "id": "PSx9atu2YklI"
      }
    },
    {
      "cell_type": "markdown",
      "source": [
        "Higher Price for minimum number of night, less price for increase in number of night."
      ],
      "metadata": {
        "id": "JaaguMImmKBv"
      }
    },
    {
      "cell_type": "markdown",
      "source": [
        "##### 3. Will the gained insights help creating a positive business impact?\n",
        "Are there any insights that lead to negative growth? Justify with specific reason."
      ],
      "metadata": {
        "id": "-JiQyfWJYklI"
      }
    },
    {
      "cell_type": "markdown",
      "source": [
        "Yes, its create positive business impact. Customer may be increase number of night stay ."
      ],
      "metadata": {
        "id": "RM8pm3yamfnc"
      }
    },
    {
      "cell_type": "markdown",
      "source": [
        "Answer Here"
      ],
      "metadata": {
        "id": "BcBbebzrYklV"
      }
    },
    {
      "cell_type": "markdown",
      "source": [
        "#### Chart - 3"
      ],
      "metadata": {
        "id": "EM7whBJCYoAo"
      }
    },
    {
      "cell_type": "code",
      "source": [
        "# Chart - 3 visualization code\n",
        "sns.boxplot(data=data, x='room_type',y='availability_365')\n",
        "plt.title(\"Room type vs Availability\")\n",
        "plt.show()"
      ],
      "metadata": {
        "id": "Xdqy0OlenJNE"
      },
      "execution_count": null,
      "outputs": []
    },
    {
      "cell_type": "markdown",
      "source": [
        "##### 1. Why did you pick the specific chart?"
      ],
      "metadata": {
        "id": "fge-S5ZAYoAp"
      }
    },
    {
      "cell_type": "markdown",
      "source": [
        "Answer Here."
      ],
      "metadata": {
        "id": "5dBItgRVYoAp"
      }
    },
    {
      "cell_type": "markdown",
      "source": [
        "To chek room types and their availability."
      ],
      "metadata": {
        "id": "0khScuaYnnLz"
      }
    },
    {
      "cell_type": "markdown",
      "source": [
        "##### 2. What is/are the insight(s) found from the chart?"
      ],
      "metadata": {
        "id": "85gYPyotYoAp"
      }
    },
    {
      "cell_type": "markdown",
      "source": [
        "Answer Here"
      ],
      "metadata": {
        "id": "4jstXR6OYoAp"
      }
    },
    {
      "cell_type": "markdown",
      "source": [
        "Availability of share type room is highest.least availability in private room."
      ],
      "metadata": {
        "id": "jTxFxiRSoWIN"
      }
    },
    {
      "cell_type": "markdown",
      "source": [
        "##### 3. Will the gained insights help creating a positive business impact?\n",
        "Are there any insights that lead to negative growth? Justify with specific reason."
      ],
      "metadata": {
        "id": "RoGjAbkUYoAp"
      }
    },
    {
      "cell_type": "markdown",
      "source": [
        "Answer Here"
      ],
      "metadata": {
        "id": "zfJ8IqMcYoAp"
      }
    },
    {
      "cell_type": "markdown",
      "source": [
        "yes, its create positive impact on business,because room providers known the interest and demand of customer and prepare accordinagly."
      ],
      "metadata": {
        "id": "UBmJLRDIpHRF"
      }
    },
    {
      "cell_type": "markdown",
      "source": [
        "#### Chart - 4"
      ],
      "metadata": {
        "id": "4Of9eVA-YrdM"
      }
    },
    {
      "cell_type": "code",
      "source": [
        "# Chart - 4 visualization code\n",
        "sns.lineplot(data=data, x='availability_365',y='price')\n",
        "plt.title('Price Vs availability_365')\n",
        "plt.xlabel('Availability_365')\n",
        "plt.ylabel('Price')\n",
        "plt.show()"
      ],
      "metadata": {
        "id": "irlUoxc8YrdO"
      },
      "execution_count": null,
      "outputs": []
    },
    {
      "cell_type": "markdown",
      "source": [
        "##### 1. Why did you pick the specific chart?"
      ],
      "metadata": {
        "id": "iky9q4vBYrdO"
      }
    },
    {
      "cell_type": "markdown",
      "source": [
        "Answer Here."
      ],
      "metadata": {
        "id": "aJRCwT6DYrdO"
      }
    },
    {
      "cell_type": "markdown",
      "source": [
        "To find pattern and variation in price and availability over time."
      ],
      "metadata": {
        "id": "ND1fgWAzp46B"
      }
    },
    {
      "cell_type": "markdown",
      "source": [
        "##### 2. What is/are the insight(s) found from the chart?"
      ],
      "metadata": {
        "id": "F6T5p64dYrdO"
      }
    },
    {
      "cell_type": "markdown",
      "source": [
        "Answer Here"
      ],
      "metadata": {
        "id": "Xx8WAJvtYrdO"
      }
    },
    {
      "cell_type": "markdown",
      "source": [
        "Some dynamic changes in price in respect of availability."
      ],
      "metadata": {
        "id": "uDHp5jq6qKTw"
      }
    },
    {
      "cell_type": "markdown",
      "source": [
        "##### 3. Will the gained insights help creating a positive business impact?\n",
        "Are there any insights that lead to negative growth? Justify with specific reason."
      ],
      "metadata": {
        "id": "y-Ehk30pYrdP"
      }
    },
    {
      "cell_type": "markdown",
      "source": [
        "Answer Here"
      ],
      "metadata": {
        "id": "jLNxxz7MYrdP"
      }
    },
    {
      "cell_type": "markdown",
      "source": [
        "Generally availability reduced then price increses, bussiness person may get good profit."
      ],
      "metadata": {
        "id": "I4A5emSbqo95"
      }
    },
    {
      "cell_type": "markdown",
      "source": [
        "#### Chart - 5"
      ],
      "metadata": {
        "id": "bamQiAODYuh1"
      }
    },
    {
      "cell_type": "code",
      "source": [
        "# Chart - 5 visualization code\n",
        "sns.boxplot(data=data, y='price',x='room_type' )\n",
        "plt.title('Boxplot of room_type and price')\n",
        "plt.show()"
      ],
      "metadata": {
        "id": "TIJwrbroYuh3"
      },
      "execution_count": null,
      "outputs": []
    },
    {
      "cell_type": "markdown",
      "source": [
        "##### 1. Why did you pick the specific chart?"
      ],
      "metadata": {
        "id": "QHF8YVU7Yuh3"
      }
    },
    {
      "cell_type": "markdown",
      "source": [],
      "metadata": {
        "id": "QdtkLcu_rlR7"
      }
    },
    {
      "cell_type": "markdown",
      "source": [
        "Answer Here."
      ],
      "metadata": {
        "id": "dcxuIMRPYuh3"
      }
    },
    {
      "cell_type": "markdown",
      "source": [
        "To identify the amount of variation in price with respect to room types."
      ],
      "metadata": {
        "id": "Vo7qIXI6rJ7z"
      }
    },
    {
      "cell_type": "markdown",
      "source": [
        "To find outlier"
      ],
      "metadata": {
        "id": "zwnrWxdDn8wr"
      }
    },
    {
      "cell_type": "markdown",
      "source": [
        "##### 2. What is/are the insight(s) found from the chart?"
      ],
      "metadata": {
        "id": "GwzvFGzlYuh3"
      }
    },
    {
      "cell_type": "markdown",
      "source": [
        "Answer Here"
      ],
      "metadata": {
        "id": "uyqkiB8YYuh3"
      }
    },
    {
      "cell_type": "markdown",
      "source": [
        "Price variation in Private room type and entire home to high."
      ],
      "metadata": {
        "id": "gezskKBwoFzd"
      }
    },
    {
      "cell_type": "markdown",
      "source": [
        "##### 3. Will the gained insights help creating a positive business impact?\n",
        "Are there any insights that lead to negative growth? Justify with specific reason."
      ],
      "metadata": {
        "id": "qYpmQ266Yuh3"
      }
    },
    {
      "cell_type": "markdown",
      "source": [
        "Answer Here"
      ],
      "metadata": {
        "id": "_WtzZ_hCYuh4"
      }
    },
    {
      "cell_type": "markdown",
      "source": [
        "yes, its give positive impact on bussiness , only few room type have higher price."
      ],
      "metadata": {
        "id": "yqZ2FIOnrx5m"
      }
    },
    {
      "cell_type": "markdown",
      "source": [
        "#### Chart - 6"
      ],
      "metadata": {
        "id": "OH-pJp9IphqM"
      }
    },
    {
      "cell_type": "code",
      "source": [
        "# Chart - 6 visualization code\n",
        "sns.lineplot(data=data, x='number_of_reviews',y='price')\n",
        "plt.title('Change in price Vs No.of Reviews')\n",
        "plt.ylabel('Price')\n",
        "plt.xlabel('No.of Reviews')\n",
        "plt.show()"
      ],
      "metadata": {
        "id": "kuRf4wtuphqN"
      },
      "execution_count": null,
      "outputs": []
    },
    {
      "cell_type": "markdown",
      "source": [
        "##### 1. Why did you pick the specific chart?"
      ],
      "metadata": {
        "id": "bbFf2-_FphqN"
      }
    },
    {
      "cell_type": "markdown",
      "source": [
        "Answer Here."
      ],
      "metadata": {
        "id": "loh7H2nzphqN"
      }
    },
    {
      "cell_type": "markdown",
      "source": [
        "To identify the vaariation in price with respect to increse in number of reviews."
      ],
      "metadata": {
        "id": "hIa2WqNssRTE"
      }
    },
    {
      "cell_type": "markdown",
      "source": [
        "##### 2. What is/are the insight(s) found from the chart?"
      ],
      "metadata": {
        "id": "_ouA3fa0phqN"
      }
    },
    {
      "cell_type": "markdown",
      "source": [
        "Answer Here"
      ],
      "metadata": {
        "id": "VECbqPI7phqN"
      }
    },
    {
      "cell_type": "markdown",
      "source": [
        "When number of reviews increases then price decreases."
      ],
      "metadata": {
        "id": "lA_kwxxwtEyz"
      }
    },
    {
      "cell_type": "markdown",
      "source": [
        "##### 3. Will the gained insights help creating a positive business impact?\n",
        "Are there any insights that lead to negative growth? Justify with specific reason."
      ],
      "metadata": {
        "id": "Seke61FWphqN"
      }
    },
    {
      "cell_type": "markdown",
      "source": [
        "Answer Here"
      ],
      "metadata": {
        "id": "DW4_bGpfphqN"
      }
    },
    {
      "cell_type": "markdown",
      "source": [
        " Its give negative impact on business.may be due to poor services in hotels, so needs to improve service quality."
      ],
      "metadata": {
        "id": "7WiVNtZPtVn4"
      }
    },
    {
      "cell_type": "markdown",
      "source": [
        "#### Chart - 8"
      ],
      "metadata": {
        "id": "BZR9WyysphqO"
      }
    },
    {
      "cell_type": "code",
      "source": [
        "# Chart - 8' visualization code\n",
        "plt.hist(data['neighbourhood_group'],bins=10)\n",
        "plt.xlabel('neighbourhood_group')\n",
        "plt.xticks(rotation=90)\n",
        "plt.title('Histogram of Neighbourhood_group')\n",
        "plt.show()\n"
      ],
      "metadata": {
        "id": "TdPTWpAVphqO"
      },
      "execution_count": null,
      "outputs": []
    },
    {
      "cell_type": "markdown",
      "source": [
        "##### 1. Why did you pick the specific chart?"
      ],
      "metadata": {
        "id": "jj7wYXLtphqO"
      }
    },
    {
      "cell_type": "markdown",
      "source": [
        "Answer Here."
      ],
      "metadata": {
        "id": "Ob8u6rCTphqO"
      }
    },
    {
      "cell_type": "markdown",
      "source": [
        "To identify the culuster of neghouhood group."
      ],
      "metadata": {
        "id": "5OuituHeuRDk"
      }
    },
    {
      "cell_type": "markdown",
      "source": [
        "##### 2. What is/are the insight(s) found from the chart?"
      ],
      "metadata": {
        "id": "eZrbJ2SmphqO"
      }
    },
    {
      "cell_type": "markdown",
      "source": [
        "Answer Here"
      ],
      "metadata": {
        "id": "mZtgC_hjphqO"
      }
    },
    {
      "cell_type": "markdown",
      "source": [
        "Maximum cluster in Manhattan and list cluster in staten iland."
      ],
      "metadata": {
        "id": "aUFAsF5GutxU"
      }
    },
    {
      "cell_type": "markdown",
      "source": [
        "##### 3. Will the gained insights help creating a positive business impact?\n",
        "Are there any insights that lead to negative growth? Justify with specific reason."
      ],
      "metadata": {
        "id": "rFu4xreNphqO"
      }
    },
    {
      "cell_type": "markdown",
      "source": [
        "Answer Here"
      ],
      "metadata": {
        "id": "ey_0qi68phqO"
      }
    },
    {
      "cell_type": "markdown",
      "source": [
        "Yes,its positive impact on business, because invester easly know the demand in region and variation."
      ],
      "metadata": {
        "id": "ww5qKrGZvMqm"
      }
    },
    {
      "cell_type": "markdown",
      "source": [
        "#### Chart - 9 - Violinplot"
      ],
      "metadata": {
        "id": "NC_X3p0fY2L0"
      }
    },
    {
      "cell_type": "code",
      "source": [
        "sns.violinplot(data=data,x='room_type',y='minimum_nights')\n",
        "plt.title('Room type Vs Min.Night')\n",
        "plt.show()"
      ],
      "metadata": {
        "id": "xyC9zolEZNRQ"
      },
      "execution_count": null,
      "outputs": []
    },
    {
      "cell_type": "markdown",
      "source": [
        "##### 1. Why did you pick the specific chart?"
      ],
      "metadata": {
        "id": "UV0SzAkaZNRQ"
      }
    },
    {
      "cell_type": "markdown",
      "source": [
        "Answer Here."
      ],
      "metadata": {
        "id": "DVPuT8LYZNRQ"
      }
    },
    {
      "cell_type": "markdown",
      "source": [
        "Its shows the spead of data"
      ],
      "metadata": {
        "id": "oljcbULp7eIg"
      }
    },
    {
      "cell_type": "markdown",
      "source": [
        "##### 2. What is/are the insight(s) found from the chart?"
      ],
      "metadata": {
        "id": "YPEH6qLeZNRQ"
      }
    },
    {
      "cell_type": "markdown",
      "source": [
        "Answer Here"
      ],
      "metadata": {
        "id": "bfSqtnDqZNRR"
      }
    },
    {
      "cell_type": "markdown",
      "source": [
        "Customer more cluster lower number of night"
      ],
      "metadata": {
        "id": "ancGxlml7q--"
      }
    },
    {
      "cell_type": "markdown",
      "source": [
        "11.**HeatMap**"
      ],
      "metadata": {
        "id": "sG5ZISkCJNI9"
      }
    },
    {
      "cell_type": "code",
      "source": [
        "# heatmap\n",
        "correlation_matrix = data.corr()\n",
        "\n",
        "# Visualize the correlation matrix using a heatmap\n",
        "plt.figure(figsize=(12, 8))\n",
        "sns.heatmap(correlation_matrix, annot=True, cmap='coolwarm', fmt='.2f', linewidths=0.5)\n",
        "plt.title('Correlation Matrix')\n",
        "plt.show()\n"
      ],
      "metadata": {
        "id": "1qIby6dHJKfj"
      },
      "execution_count": null,
      "outputs": []
    },
    {
      "cell_type": "markdown",
      "source": [
        "Information Gain by Heat map"
      ],
      "metadata": {
        "id": "g3OolPV0-9M5"
      }
    },
    {
      "cell_type": "markdown",
      "source": [
        "**Color Gradient:**\n",
        "\n",
        "The heatmap uses a color gradient to represent the strength and direction of correlations between variables.\n",
        "\n",
        "Positive correlations are typically represented in shades of green, where darker shades indicate stronger positive correlations.\n",
        "\n",
        "Negative correlations are represented in shades of red, where darker shades indicate stronger negative correlations.\n",
        "\n",
        "No correlation or weak correlations are represented in lighter shades or neutral colors.\n",
        "\n",
        "**Interpretation:**\n",
        "\n",
        "Strong positive correlations (dark green cells) suggest that as one variable increases, the other variable also tends to increase, and vice versa.\n",
        "Strong negative correlations (dark red cells) suggest that as one variable increases, the other variable tends to decrease, and vice versa.\n",
        "Near-zero correlations (lighter cells or neutral colors) suggest that there is little to no linear relationship between the variables.\n",
        "Understanding these correlations helps in identifying potential patterns, dependencies, or relationships within the dataset.\n",
        "\n",
        "**Insights:**\n",
        "\n",
        "Look for clusters of dark-colored cells (either green or red) to identify groups of variables that are strongly correlated with each other.\n",
        "Pay attention to variables with high absolute correlation coefficients (close to 1 or -1) as they indicate stronger relationships that may be worth exploring further.\n",
        "\n",
        "Use the heatmap as a tool for feature selection or to guide further analysis, such as identifying multicollinearity in regression models or understanding underlying patterns in the data."
      ],
      "metadata": {
        "id": "C5IneuLE-JMH"
      }
    },
    {
      "cell_type": "markdown",
      "source": [
        " **Chart - 12 - Pair Plot**"
      ],
      "metadata": {
        "id": "q29F0dvdveiT"
      }
    },
    {
      "cell_type": "code",
      "source": [
        "# Pair Plot visualization code\n",
        "sns.pairplot(data)"
      ],
      "metadata": {
        "id": "o58-TEIhveiU"
      },
      "execution_count": null,
      "outputs": []
    },
    {
      "cell_type": "markdown",
      "source": [
        "##### 1. Why did you pick the specific chart?"
      ],
      "metadata": {
        "id": "EXh0U9oCveiU"
      }
    },
    {
      "cell_type": "markdown",
      "source": [
        "Answer Here."
      ],
      "metadata": {
        "id": "eMmPjTByveiU"
      }
    },
    {
      "cell_type": "markdown",
      "source": [
        "its help to identify and comparision of different varable and their relations."
      ],
      "metadata": {
        "id": "0T0_EOqewYZf"
      }
    },
    {
      "cell_type": "markdown",
      "source": [
        "##### 2. What is/are the insight(s) found from the chart?"
      ],
      "metadata": {
        "id": "22aHeOlLveiV"
      }
    },
    {
      "cell_type": "markdown",
      "source": [
        "Answer Here"
      ],
      "metadata": {
        "id": "uPQ8RGwHveiV"
      }
    },
    {
      "cell_type": "markdown",
      "source": [
        "Here multple variation or changes occurs in the given data, so identify the relation among according to needs."
      ],
      "metadata": {
        "id": "jmrBwPIAwigC"
      }
    },
    {
      "cell_type": "markdown",
      "source": [
        "## **5. Solution to Business Objective**"
      ],
      "metadata": {
        "id": "JcMwzZxoAimU"
      }
    },
    {
      "cell_type": "markdown",
      "source": [
        "#### What do you suggest the client to achieve Business Objective ?\n",
        "Explain Briefly."
      ],
      "metadata": {
        "id": "8G2x9gOozGDZ"
      }
    },
    {
      "cell_type": "markdown",
      "source": [
        "Answer Here."
      ],
      "metadata": {
        "id": "pASKb0qOza21"
      }
    },
    {
      "cell_type": "markdown",
      "source": [
        "Let's assume a general business objective related to optimizing pricing strategies and maximizing revenue for Airbnb hosts. Based on this objective, here are potential solutions and strategies that could be implemented using the dataset:\n",
        "\n",
        "**Pricing Optimization:**\n",
        "\n",
        "Analyze the correlation between pricing and factors such as location (latitude, longitude), minimum nights, and availability to identify patterns and determine optimal pricing strategies.\n",
        "Use regression analysis or machine learning models to predict listing prices based on relevant features, allowing hosts to set competitive prices while maximizing revenue.\n",
        "\n",
        "**Demand Forecasting:**\n",
        "\n",
        "Utilize historical data on availability, booking trends, and reviews to forecast demand for listings in different time periods (e.g., seasons, holidays).\n",
        "Adjust pricing dynamically based on forecasted demand to capitalize on peak periods and optimize revenue.\n",
        "\n",
        "**Host Performance Analysis:**\n",
        "\n",
        "Evaluate host performance metrics such as number of listings, reviews per month, and calculated host listings count to identify top-performing hosts and incentivize them with premium features or discounts.\n",
        "Provide personalized recommendations and insights to hosts for improving their listing performance and attracting more bookings.\n",
        "\n",
        "**Market Segmentation:**\n",
        "\n",
        "Segment listings based on location, price range, amenities, and host characteristics to target specific customer segments effectively.\n",
        "Tailor pricing strategies, promotions, and marketing campaigns for each segment to maximize conversion and revenue.\n",
        "\n",
        "**Anomaly Detection and Quality Control:**\n",
        "\n",
        "Use anomaly detection algorithms to identify outliers, unusual pricing patterns, or fraudulent listings that may impact customer trust and satisfaction.\n",
        "Implement quality control measures and guidelines for hosts to maintain high standards and ensure a positive guest experience.\n",
        "\n",
        "**Customer Feedback Analysis:**\n",
        "\n",
        "Analyze customer reviews, ratings, and feedback to understand customer preferences, pain points, and areas for improvement.\n",
        "Incorporate insights from feedback analysis into pricing decisions, service enhancements, and marketing strategies to enhance customer satisfaction and loyalty.\n",
        "\n",
        "**Competitive Analysis:**\n",
        "\n",
        "Conduct competitive analysis by comparing pricing, availability, and customer ratings with similar listings in the market.\n",
        "Benchmark pricing strategies against competitors and adjust pricing dynamically to maintain competitiveness and capture market share."
      ],
      "metadata": {
        "id": "keFRQIVWbrX-"
      }
    },
    {
      "cell_type": "markdown",
      "source": [
        "# **Conclusion**"
      ],
      "metadata": {
        "id": "gCX9965dhzqZ"
      }
    },
    {
      "cell_type": "markdown",
      "source": [
        "In the project od EDA on AirBnb_2019, we study,clean and draw different graph to find actual pattern of customers,customer interest and their needs.\n",
        "\n",
        "The dataset  provided appears to contain information about Airbnb listings, including various attributes such as host details, location coordinates, pricing, availability, and reviews. Here's a general summary and potential insights that could be derived from this dataset for a project or analysis:\n",
        "\n",
        "**Listing Characteristics:**\n",
        "\n",
        "The dataset includes information about the location (latitude and longitude) of Airbnb listings, which can be used for spatial analysis, mapping, and clustering based on geographical proximity.\n",
        "Details such as price per night, minimum nights required for booking, and availability throughout the year provide insights into the rental market and booking patterns.\n",
        "\n",
        "**Host and Review Data:**\n",
        "\n",
        "Host-related information such as host IDs and the number of listings managed by each host can be analyzed to understand the distribution and behavior of hosts on the platform.\n",
        "Review-related metrics, such as the total number of reviews and reviews per month, can indicate the popularity and engagement level of listings.\n",
        "\n",
        "**Correlation Analysis:**\n",
        "\n",
        "By calculating correlations between different variables (e.g., price, minimum nights, number of reviews), you can identify relationships and dependencies within the dataset.\n",
        "For example, correlations between price and location, availability and minimum nights, or host-related metrics can provide valuable insights into pricing strategies, booking trends, and host performance.\n",
        "\n",
        "**Outlier Detection:**\n",
        "\n",
        "Utilizing techniques like Isolation Forest or other anomaly detection methods can help identify outliers in the dataset, such as unusually high-priced listings, hosts with an abnormally large number of listings, or extreme values in review-related metrics.\n",
        "\n",
        "**Visualization and Interpretation:**\n",
        "\n",
        "Creating visualizations such as heatmaps for correlation analysis, scatter plots for price vs. location, bar charts for host distribution, and time series plots for booking trends can enhance data exploration and storytelling.\n",
        "Interpretation of these visualizations can lead to actionable insights for stakeholders, such as identifying profitable locations, optimizing pricing strategies, or addressing issues related to availability or host performance.\n",
        "\n"
      ],
      "metadata": {
        "id": "Fjb1IsQkh3yE"
      }
    },
    {
      "cell_type": "markdown",
      "source": [
        "### ***Hurrah! You have successfully completed your EDA Capstone Project !!!***"
      ],
      "metadata": {
        "id": "gIfDvo9L0UH2"
      }
    }
  ]
}